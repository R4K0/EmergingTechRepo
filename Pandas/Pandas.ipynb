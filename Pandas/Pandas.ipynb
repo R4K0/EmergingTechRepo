{
 "cells": [
  {
   "cell_type": "markdown",
   "id": "d24666e5-2aae-4c12-8826-ea8b9fe9854a",
   "metadata": {
    "tags": []
   },
   "source": [
    "## Imports"
   ]
  },
  {
   "cell_type": "code",
   "execution_count": 15,
   "id": "92185abf-fa08-40d0-8b55-d26bab7f940b",
   "metadata": {},
   "outputs": [],
   "source": [
    "import numpy as nump\n",
    "import pandas as pand"
   ]
  },
  {
   "cell_type": "markdown",
   "id": "1e39b6e8-19be-4f93-a733-a3eeefdb1787",
   "metadata": {},
   "source": [
    "# Learning Pandas"
   ]
  },
  {
   "cell_type": "code",
   "execution_count": 16,
   "id": "d249fe87-a7b5-41ad-be96-6166e7a7a545",
   "metadata": {},
   "outputs": [],
   "source": [
    "s = pand.Series([4, 5, 3, nump.nan, 3, 2])"
   ]
  },
  {
   "cell_type": "code",
   "execution_count": 17,
   "id": "a23f4b10-c7de-4a93-a670-b5632a1ab470",
   "metadata": {},
   "outputs": [],
   "source": [
    "dataframe = pand.DataFrame({\n",
    "    \"A\": 3.0,\n",
    "    \"B\": pand.Timestamp(\"20180215\"),\n",
    "    \"C\": pand.Series(1, index=list(range(4)), dtype=\"float32\"),\n",
    "    \"D\": nump.array([3] * 4, dtype=\"int32\")})"
   ]
  },
  {
   "cell_type": "code",
   "execution_count": 18,
   "id": "5565b15f-b9aa-4830-9417-b781439691cb",
   "metadata": {},
   "outputs": [
    {
     "data": {
      "text/html": [
       "<div>\n",
       "<style scoped>\n",
       "    .dataframe tbody tr th:only-of-type {\n",
       "        vertical-align: middle;\n",
       "    }\n",
       "\n",
       "    .dataframe tbody tr th {\n",
       "        vertical-align: top;\n",
       "    }\n",
       "\n",
       "    .dataframe thead th {\n",
       "        text-align: right;\n",
       "    }\n",
       "</style>\n",
       "<table border=\"1\" class=\"dataframe\">\n",
       "  <thead>\n",
       "    <tr style=\"text-align: right;\">\n",
       "      <th></th>\n",
       "      <th>A</th>\n",
       "      <th>B</th>\n",
       "      <th>C</th>\n",
       "      <th>D</th>\n",
       "    </tr>\n",
       "  </thead>\n",
       "  <tbody>\n",
       "    <tr>\n",
       "      <th>0</th>\n",
       "      <td>3.0</td>\n",
       "      <td>2018-02-15</td>\n",
       "      <td>1.0</td>\n",
       "      <td>3</td>\n",
       "    </tr>\n",
       "    <tr>\n",
       "      <th>1</th>\n",
       "      <td>3.0</td>\n",
       "      <td>2018-02-15</td>\n",
       "      <td>1.0</td>\n",
       "      <td>3</td>\n",
       "    </tr>\n",
       "    <tr>\n",
       "      <th>2</th>\n",
       "      <td>3.0</td>\n",
       "      <td>2018-02-15</td>\n",
       "      <td>1.0</td>\n",
       "      <td>3</td>\n",
       "    </tr>\n",
       "    <tr>\n",
       "      <th>3</th>\n",
       "      <td>3.0</td>\n",
       "      <td>2018-02-15</td>\n",
       "      <td>1.0</td>\n",
       "      <td>3</td>\n",
       "    </tr>\n",
       "  </tbody>\n",
       "</table>\n",
       "</div>"
      ],
      "text/plain": [
       "     A          B    C  D\n",
       "0  3.0 2018-02-15  1.0  3\n",
       "1  3.0 2018-02-15  1.0  3\n",
       "2  3.0 2018-02-15  1.0  3\n",
       "3  3.0 2018-02-15  1.0  3"
      ]
     },
     "execution_count": 18,
     "metadata": {},
     "output_type": "execute_result"
    }
   ],
   "source": [
    "dataframe"
   ]
  },
  {
   "cell_type": "code",
   "execution_count": 19,
   "id": "4dad3405-fd84-4fa9-91f1-7778bd974889",
   "metadata": {},
   "outputs": [],
   "source": [
    "csvdata = pand.read_csv(\"https://opendata-geohive.hub.arcgis.com/datasets/4779c505c43c40da9101ce53f34bb923_0.csv?outSR=%7B%22latestWkid%22%3A3857%2C%22wkid%22%3A102100%7D\")"
   ]
  },
  {
   "cell_type": "code",
   "execution_count": 21,
   "id": "382317f1-3d55-4b76-b914-1f3c361472ef",
   "metadata": {},
   "outputs": [
    {
     "data": {
      "text/html": [
       "<div>\n",
       "<style scoped>\n",
       "    .dataframe tbody tr th:only-of-type {\n",
       "        vertical-align: middle;\n",
       "    }\n",
       "\n",
       "    .dataframe tbody tr th {\n",
       "        vertical-align: top;\n",
       "    }\n",
       "\n",
       "    .dataframe thead th {\n",
       "        text-align: right;\n",
       "    }\n",
       "</style>\n",
       "<table border=\"1\" class=\"dataframe\">\n",
       "  <thead>\n",
       "    <tr style=\"text-align: right;\">\n",
       "      <th></th>\n",
       "      <th>CountyName</th>\n",
       "      <th>PopulationCensus16</th>\n",
       "      <th>ConfirmedCovidCases</th>\n",
       "    </tr>\n",
       "  </thead>\n",
       "  <tbody>\n",
       "    <tr>\n",
       "      <th>0</th>\n",
       "      <td>Carlow</td>\n",
       "      <td>56932</td>\n",
       "      <td>5440</td>\n",
       "    </tr>\n",
       "    <tr>\n",
       "      <th>1</th>\n",
       "      <td>Cavan</td>\n",
       "      <td>76176</td>\n",
       "      <td>8988</td>\n",
       "    </tr>\n",
       "    <tr>\n",
       "      <th>2</th>\n",
       "      <td>Clare</td>\n",
       "      <td>118817</td>\n",
       "      <td>8416</td>\n",
       "    </tr>\n",
       "    <tr>\n",
       "      <th>3</th>\n",
       "      <td>Cork</td>\n",
       "      <td>542868</td>\n",
       "      <td>38701</td>\n",
       "    </tr>\n",
       "    <tr>\n",
       "      <th>4</th>\n",
       "      <td>Donegal</td>\n",
       "      <td>159192</td>\n",
       "      <td>22145</td>\n",
       "    </tr>\n",
       "    <tr>\n",
       "      <th>...</th>\n",
       "      <td>...</td>\n",
       "      <td>...</td>\n",
       "      <td>...</td>\n",
       "    </tr>\n",
       "    <tr>\n",
       "      <th>73</th>\n",
       "      <td>Tipperary</td>\n",
       "      <td>159553</td>\n",
       "      <td>10581</td>\n",
       "    </tr>\n",
       "    <tr>\n",
       "      <th>74</th>\n",
       "      <td>Waterford</td>\n",
       "      <td>116176</td>\n",
       "      <td>10373</td>\n",
       "    </tr>\n",
       "    <tr>\n",
       "      <th>75</th>\n",
       "      <td>Westmeath</td>\n",
       "      <td>88770</td>\n",
       "      <td>7338</td>\n",
       "    </tr>\n",
       "    <tr>\n",
       "      <th>76</th>\n",
       "      <td>Wexford</td>\n",
       "      <td>149722</td>\n",
       "      <td>10908</td>\n",
       "    </tr>\n",
       "    <tr>\n",
       "      <th>77</th>\n",
       "      <td>Wicklow</td>\n",
       "      <td>142425</td>\n",
       "      <td>8641</td>\n",
       "    </tr>\n",
       "  </tbody>\n",
       "</table>\n",
       "<p>78 rows × 3 columns</p>\n",
       "</div>"
      ],
      "text/plain": [
       "   CountyName  PopulationCensus16  ConfirmedCovidCases\n",
       "0      Carlow               56932                 5440\n",
       "1       Cavan               76176                 8988\n",
       "2       Clare              118817                 8416\n",
       "3        Cork              542868                38701\n",
       "4     Donegal              159192                22145\n",
       "..        ...                 ...                  ...\n",
       "73  Tipperary              159553                10581\n",
       "74  Waterford              116176                10373\n",
       "75  Westmeath               88770                 7338\n",
       "76    Wexford              149722                10908\n",
       "77    Wicklow              142425                 8641\n",
       "\n",
       "[78 rows x 3 columns]"
      ]
     },
     "execution_count": 21,
     "metadata": {},
     "output_type": "execute_result"
    }
   ],
   "source": [
    "csvdata[[\"CountyName\", \"PopulationCensus16\", \"ConfirmedCovidCases\"]]"
   ]
  },
  {
   "cell_type": "code",
   "execution_count": null,
   "id": "c1592585-cfb9-403e-b669-d50790b9e987",
   "metadata": {},
   "outputs": [],
   "source": []
  }
 ],
 "metadata": {
  "kernelspec": {
   "display_name": "Python 3 (ipykernel)",
   "language": "python",
   "name": "python3"
  },
  "language_info": {
   "codemirror_mode": {
    "name": "ipython",
    "version": 3
   },
   "file_extension": ".py",
   "mimetype": "text/x-python",
   "name": "python",
   "nbconvert_exporter": "python",
   "pygments_lexer": "ipython3",
   "version": "3.9.6"
  }
 },
 "nbformat": 4,
 "nbformat_minor": 5
}

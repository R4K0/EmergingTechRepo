{
 "cells": [
  {
   "cell_type": "markdown",
   "id": "c77e71c9-97c0-401d-9415-adc61e1ad510",
   "metadata": {},
   "source": [
    "# Quantum Computing versus Classical Computing\n",
    "Starting with brief explaintation of classical computing (binary computing) - Classical computers manipulate bunch of ones and zeros (called bits, the state of a transistor can be either 1 or 0) to process information. The processing unit, CPU (Central Processing Unit) are made with a billions of transistors - transistors, are essentially little switches that can have only one of the states (0 or 1) at a time. As transistors get smaller and we can fit more of them in a single chip the power rises - The power of a classical computer grows linearly with the amount of transistors - essentially meaning that as transistors get smaller, we are able to fit more and more of them chips, increasing the power linearly with the amount of transistors. Software running on those machines are translated to machine code, which is essentially an instruction set written in binary, sent to the processor for execution.\n",
    "\n",
    "As opposed to Quantum computers, which operate in a systematically different way to classical computing - They operate using qubits, which can represent both 0 AND 1 at the same time (this is called a superposition phenomena)\n",
    "\n",
    "## Why is it relevant\n",
    "### Moore's Law\n",
    "In 1965 Intel co-founder Gordon Moore has made an observation, that the number of transistors per square inch on a microchip has doubled every year, with the costs being cut in half as well - This observation has evolved into what is known as Moore's Law - It is generally accurately believed that every year, thanks to new developments and ongoing research, the transistors get smaller and smaller. However, after over 55 years, this law is slowing down, the progress in making the transistors smaller, and thus our ability to increase our classical computational power is slowing down due to physical constraints.\n",
    "Currently produced transistors are around 5 nm (nanometres), which is reportedly said to be brushing against the physical limitations, to just show how impressive that is, a 5nm transistor is about the same size as 16 oxygen molecules side-by-side.\n",
    "\n",
    "\n",
    "# The Deutsch-Jozsa Algorithm\n",
    "## History of Algorithm\n",
    "The algorithm has been first proposed by David Deutsch and Richard Jozsa (hence the name) in 1992 - It has been further improved in 1998 by Richard Cleve, Chiara Macchiavello, Michele Mosca, Artur Ekert.\n",
    "\n",
    "## Why is it relevant\n",
    "It is one of the first algorithms that performs expontentially better using the quantum (rather than classical) approach to solve it.\n",
    "\n",
    "## The problem\n",
    "Given a Boolean function, with the parameter of a string that represents bits - based on that input, it has a constant return - 0 or 1.\n",
    "Our task is to decide whenever the function is balanced (returns 0 for exactly half of all inputs, and 1 for the other half) or constant (it returns all 1's or all 0's)\n",
    "\n",
    "## Solutions\n",
    "### Classical\n",
    "The classical solution would be to loop over all bits and see if it returns a different value than it started with at any given point. - The best case scenario you can get the result after 2 queries - where if the function returns 0 first, and then returns 1, since those are two different outputs then we can be certain that the function is balanced.\n",
    "\n",
    "The worst case scenario, even though we queried half of the inputs, there is still a chance that after the mid-point of queries, the function would return a different input - Statitically it is unlikely, but if we want to be 100% certain, we have to run at least $2^{n-1}+1$ queries\n",
    "\n",
    "### Quantum\n",
    "This problem is easily solved using Quantum Computing after just one query to the function, as long as we have the function implemented as a quantum oracle\n",
    "\n",
    "# References\n",
    "[1] https://qiskit.org/textbook/ch-algorithms/deutsch-jozsa.html\n",
    "\n",
    "[2] https://en.wikipedia.org/wiki/Deutsch%E2%80%93Jozsa_algorithm\n",
    "\n",
    "[3] https://arxiv.org/pdf/quant-ph/9807012.pdf\n",
    "\n",
    "[4] https://www.cbinsights.com/research/report/quantum-computing/"
   ]
  },
  {
   "cell_type": "code",
   "execution_count": null,
   "id": "e4b37d31-2aef-4b18-b467-c77362db0d6c",
   "metadata": {},
   "outputs": [],
   "source": []
  }
 ],
 "metadata": {
  "kernelspec": {
   "display_name": "Python 3 (ipykernel)",
   "language": "python",
   "name": "python3"
  },
  "language_info": {
   "codemirror_mode": {
    "name": "ipython",
    "version": 3
   },
   "file_extension": ".py",
   "mimetype": "text/x-python",
   "name": "python",
   "nbconvert_exporter": "python",
   "pygments_lexer": "ipython3",
   "version": "3.9.6"
  }
 },
 "nbformat": 4,
 "nbformat_minor": 5
}

{
 "cells": [
  {
   "cell_type": "markdown",
   "id": "c77e71c9-97c0-401d-9415-adc61e1ad510",
   "metadata": {},
   "source": [
    "# Quantum Computing versus Classical Computing\n",
    "Starting with brief explaintation of classical computing (binary computing) - Classical computers manipulate bunch of ones and zeros (called bits, the state of a transistor can be either 1 or 0) to process information. The processing unit, CPU (Central Processing Unit) are made with a billions of transistors - transistors, are essentially little switches that can have only one of the states (0 or 1) at a time. As transistors get smaller and we can fit more of them in a single chip the power rises - The power of a classical computer grows linearly with the amount of transistors - essentially meaning that as transistors get smaller, we are able to fit more and more of them chips, increasing the power linearly with the amount of transistors. Software running on those machines are translated to machine code, which is essentially an instruction set written in binary (1 and 0's), sent to the processor for execution.\n",
    "\n",
    "Semiconductor chips have billions of transistors, and transistors are made of sillicon. **Fun fact:** Did you know that due to COVID-19 and increased demand for electronics, we're experiencing a sillicon shortage in 2019-2021 due to increased consumption, pandemic-related supply chain problems and other factors? The effect was felt throughout many indurstries - Prices of automobiles, mobile phones, GPUs, CPUs, device memory and even game consoles skyrocketed due to that!\n",
    "\n",
    "As opposed to Quantum computers, which operate in a systematically different way to classical computing - They operate using qubits (quantum bits), which can represent both 0 AND 1 at the same time (this is called a superposition phenomena). As opposed to classical computing, the power of a quantum computer increases exponentially in proportion to the number of qubits.\n",
    "The previously mentioned superstition, the possilibity of qubits being multiple states at once, allows to query many states at once. The trick here, is that measuring the state of a qubit, it collapses/burns it into one of it's possible states. Qubit, physically speaking, can be a spinning electron, where two states can be considered as it spinning up and down - Or the polarization of a single photon, in which the 0 and 1 state are taken as the vertical and horizontal polarization. As mentioned before, qubit can be both of the states at once. (0, 1, or both), a fundamental property of quantum mechanics.\n",
    "\n",
    "It's very hard to build a quantum computer, current state of quantum computer research and knowledge allows us to build those machines, sure, but they are usually large, they need specific cooling conditions (very low temperatures, qubits operate at around -273 degrees Celsius). Essentially, quantum machines are kept in big refrigerators. Worth nothing that at the current time, quantum machines aren't really supposed to replace binary machines - Classical computing is, and probably will be the more performant for many of computational problems, however, due to the nature of quantum computing, and being able to do large computations in parallel (at once), quantum computing massively out-performs binary computing at very specific problems, as an example of that - it is speculated that quantum machines would be able to break the 2048-bit RSA encryption in a mere few hours, something that a binary machine would break in... **300 trillion years**!\n",
    "\n",
    "So, quantum computers are good at specific things, they're really not meant to replace classical (binary) computing and probably never will, but who knows what the next 50 years of research will bring?\n",
    "\n",
    "## Relevant information\n",
    "### Moore's Law\n",
    "In 1965 Intel co-founder Gordon Moore has made an observation, that the number of transistors per square inch on a microchip has doubled every year, with the costs being cut in half as well - This observation has evolved into what is known as Moore's Law - It is generally accurately believed that every year, thanks to new developments and ongoing research, the transistors get smaller and smaller. However, after over 55 years, this law is slowing down, the progress in making the transistors smaller, and thus our ability to increase our classical computational power is slowing down due to physical constraints.\n",
    "Currently produced transistors are around 5 nm (nanometres), which is reportedly said to be brushing against the physical limitations, to just show how impressive that is, a 5nm transistor is about the same size as 16 oxygen molecules side-by-side.\n",
    "\n",
    "In a nut-shell, it is harder and harder to make smaller transistors and it's predicted that due to this, developments of more computationally powerful binary chips are about to slow down consireably, quantum computing already has some use-cases where it outperforms classical computers, but we're being held back by how difficult it is to build those machines, some of the problems will probably still be much effectively computed using binary machines, while quantum computing will remain superior in other problems.\n",
    "\n",
    "\n",
    "# The Deutsch-Jozsa Algorithm\n",
    "## History of Algorithm\n",
    "The algorithm has been first proposed by David Deutsch and Richard Jozsa (hence the name) in 1992 - It has been further improved in 1998 by Richard Cleve, Chiara Macchiavello, Michele Mosca, Artur Ekert.\n",
    "\n",
    "## Why is it relevant\n",
    "It is one of the first algorithms that performs expontentially better using the quantum (rather than classical, binary) approach to solve it.\n",
    "\n",
    "## The problem\n",
    "Given a Boolean function, with the parameter that represents bits - based on that input, it has a constant return - 0 or 1.\n",
    "Our task is to decide whenever the function is balanced (returns 0 for exactly half of all inputs, and 1 for the other half) or constant (it returns all 1's or all 0's)\n",
    "\n",
    "## Solutions\n",
    "### Classical\n",
    "The classical solution would be to loop over all bits and see if it returns a different value than it started with at any given point, if it does, then it is not a constant return. - The best case scenario you can get the result after 2 queries - where if the function returns 0 first, and then returns 1 (or vice-versa), since those are two different outputs then we can be certain that the function is balanced.\n",
    "\n",
    "The worst case scenario, even though we queried half of the inputs, there is still a chance that after the mid-point of queries, the function would return a different than expected input - Statistically it is unlikely, but if we want to be 100% certain, we have to run at least $2^{n-1}+1$ queries to be sure.\n",
    "\n",
    "### Quantum\n",
    "This problem is easily solved in 100% confidence using Quantum Computing after just one query to the function! We'll explore the implementation in the second part of the notebook.\n",
    "\n",
    "# References\n",
    "[1] https://qiskit.org/textbook/ch-algorithms/deutsch-jozsa.html\n",
    "\n",
    "[2] https://en.wikipedia.org/wiki/Deutsch%E2%80%93Jozsa_algorithm\n",
    "\n",
    "[3] https://arxiv.org/pdf/quant-ph/9807012.pdf\n",
    "\n",
    "[4] https://www.cbinsights.com/research/report/quantum-computing/\n",
    "\n",
    "[5] https://ec.europa.eu/research-and-innovation/en/horizon-magazine/quantum-computers-will-soon-outperform-classical-machines"
   ]
  },
  {
   "cell_type": "code",
   "execution_count": 8,
   "id": "e4b37d31-2aef-4b18-b467-c77362db0d6c",
   "metadata": {},
   "outputs": [
    {
     "data": {
      "text/html": [
       "<pre style=\"word-wrap: normal;white-space: pre;background: #fff0;line-height: 1.1;font-family: &quot;Courier New&quot;,Courier,monospace\">          \n",
       "q_0: ─────\n",
       "          \n",
       "q_1: ─────\n",
       "          \n",
       "q_2: ─────\n",
       "     ┌───┐\n",
       "q_3: ┤ X ├\n",
       "     └───┘</pre>"
      ],
      "text/plain": [
       "          \n",
       "q_0: ─────\n",
       "          \n",
       "q_1: ─────\n",
       "          \n",
       "q_2: ─────\n",
       "     ┌───┐\n",
       "q_3: ┤ X ├\n",
       "     └───┘"
      ]
     },
     "execution_count": 8,
     "metadata": {},
     "output_type": "execute_result"
    }
   ],
   "source": [
    "# Example taken from https://qiskit.org/textbook/ch-algorithms/deutsch-jozsa.html\n",
    "\n",
    "# import numpy\n",
    "import numpy as np\n",
    "\n",
    "# importing Qiski, for everything we need to implement this algorithm\n",
    "from qiskit import IBMQ, Aer\n",
    "from qiskit.providers.ibmq import least_busy\n",
    "from qiskit import QuantumCircuit, assemble, transpile\n",
    "\n",
    "# import basic plot tools\n",
    "from qiskit.visualization import plot_histogram\n",
    "\n",
    "# Lenght of the n-bit string (the input)\n",
    "n = 3\n",
    "\n",
    "# Create the constant oracle\n",
    "const_oracle = QuantumCircuit(n+1)\n",
    "\n",
    "# Input has no effect, so we'll just set the output quibit to be 0 or 1\n",
    "output = np.random.randint(2)\n",
    "if output == 1:\n",
    "    const_oracle.x(n)\n",
    "\n",
    "const_oracle.draw()"
   ]
  },
  {
   "cell_type": "code",
   "execution_count": 13,
   "id": "510712b5-893a-40f9-81e0-60d51accdaa1",
   "metadata": {},
   "outputs": [
    {
     "data": {
      "text/html": [
       "<pre style=\"word-wrap: normal;white-space: pre;background: #fff0;line-height: 1.1;font-family: &quot;Courier New&quot;,Courier,monospace\">     ┌───┐\n",
       "q_0: ┤ X ├\n",
       "     └───┘\n",
       "q_1: ─────\n",
       "     ┌───┐\n",
       "q_2: ┤ X ├\n",
       "     └───┘\n",
       "q_3: ─────\n",
       "          </pre>"
      ],
      "text/plain": [
       "     ┌───┐\n",
       "q_0: ┤ X ├\n",
       "     └───┘\n",
       "q_1: ─────\n",
       "     ┌───┐\n",
       "q_2: ┤ X ├\n",
       "     └───┘\n",
       "q_3: ─────\n",
       "          "
      ]
     },
     "execution_count": 13,
     "metadata": {},
     "output_type": "execute_result"
    }
   ],
   "source": [
    "# Create the balanced oracle - We can do this by using CNOTs on each input qubit as control, and output bit as the target.\n",
    "# The binary string (that has the same length as n defined above) dictates which controls to wrap with an X-Gate so we can vary the input states for those controls\n",
    "balanced_oracle = QuantumCircuit(n+1)\n",
    "# The string that dictates which controls \n",
    "b_str = \"101\"\n",
    "\n",
    "# Place X-gates at 1 (true) bits\n",
    "for qubit in range(len(b_str)):\n",
    "    if b_str[qubit] == '1':\n",
    "        balanced_oracle.x(qubit)\n",
    "balanced_oracle.draw()"
   ]
  },
  {
   "cell_type": "code",
   "execution_count": 14,
   "id": "fa04dcb8-c408-4721-8661-24a2f1295cc7",
   "metadata": {},
   "outputs": [
    {
     "data": {
      "text/html": [
       "<pre style=\"word-wrap: normal;white-space: pre;background: #fff0;line-height: 1.1;font-family: &quot;Courier New&quot;,Courier,monospace\">     ┌───┐ ░                 ░ \n",
       "q_0: ┤ X ├─░───■─────────────░─\n",
       "     └───┘ ░   │             ░ \n",
       "q_1: ──────░───┼────■────────░─\n",
       "     ┌───┐ ░   │    │        ░ \n",
       "q_2: ┤ X ├─░───┼────┼────■───░─\n",
       "     └───┘ ░ ┌─┴─┐┌─┴─┐┌─┴─┐ ░ \n",
       "q_3: ──────░─┤ X ├┤ X ├┤ X ├─░─\n",
       "           ░ └───┘└───┘└───┘ ░ </pre>"
      ],
      "text/plain": [
       "     ┌───┐ ░                 ░ \n",
       "q_0: ┤ X ├─░───■─────────────░─\n",
       "     └───┘ ░   │             ░ \n",
       "q_1: ──────░───┼────■────────░─\n",
       "     ┌───┐ ░   │    │        ░ \n",
       "q_2: ┤ X ├─░───┼────┼────■───░─\n",
       "     └───┘ ░ ┌─┴─┐┌─┴─┐┌─┴─┐ ░ \n",
       "q_3: ──────░─┤ X ├┤ X ├┤ X ├─░─\n",
       "           ░ └───┘└───┘└───┘ ░ "
      ]
     },
     "execution_count": 14,
     "metadata": {},
     "output_type": "execute_result"
    }
   ],
   "source": [
    "# Let's place a barrier\n",
    "balanced_oracle.barrier()\n",
    "\n",
    "# Then the n (3 by default) amount of NOT gates \n",
    "for qubit in range(n):\n",
    "    balanced_oracle.cx(qubit, n)\n",
    "\n",
    "# Place the barrier at the end.\n",
    "balanced_oracle.barrier()\n",
    "balanced_oracle.draw()"
   ]
  },
  {
   "cell_type": "code",
   "execution_count": 15,
   "id": "7dbd74c7-2269-40c7-9817-aa2981f72d2b",
   "metadata": {},
   "outputs": [
    {
     "data": {
      "text/html": [
       "<pre style=\"word-wrap: normal;white-space: pre;background: #fff0;line-height: 1.1;font-family: &quot;Courier New&quot;,Courier,monospace\">     ┌───┐ ░                 ░ ┌───┐\n",
       "q_0: ┤ X ├─░───■─────────────░─┤ X ├\n",
       "     └───┘ ░   │             ░ └───┘\n",
       "q_1: ──────░───┼────■────────░──────\n",
       "     ┌───┐ ░   │    │        ░ ┌───┐\n",
       "q_2: ┤ X ├─░───┼────┼────■───░─┤ X ├\n",
       "     └───┘ ░ ┌─┴─┐┌─┴─┐┌─┴─┐ ░ └───┘\n",
       "q_3: ──────░─┤ X ├┤ X ├┤ X ├─░──────\n",
       "           ░ └───┘└───┘└───┘ ░      </pre>"
      ],
      "text/plain": [
       "     ┌───┐ ░                 ░ ┌───┐\n",
       "q_0: ┤ X ├─░───■─────────────░─┤ X ├\n",
       "     └───┘ ░   │             ░ └───┘\n",
       "q_1: ──────░───┼────■────────░──────\n",
       "     ┌───┐ ░   │    │        ░ ┌───┐\n",
       "q_2: ┤ X ├─░───┼────┼────■───░─┤ X ├\n",
       "     └───┘ ░ ┌─┴─┐┌─┴─┐┌─┴─┐ ░ └───┘\n",
       "q_3: ──────░─┤ X ├┤ X ├┤ X ├─░──────\n",
       "           ░ └───┘└───┘└───┘ ░      "
      ]
     },
     "execution_count": 15,
     "metadata": {},
     "output_type": "execute_result"
    }
   ],
   "source": [
    "# And place the X gates at the same spot, again - finishing the balanced oracle\n",
    "for qubit in range(len(b_str)):\n",
    "    if b_str[qubit] == '1':\n",
    "        balanced_oracle.x(qubit)\n",
    "balanced_oracle.draw()"
   ]
  },
  {
   "cell_type": "code",
   "execution_count": 20,
   "id": "3108e55d-6507-4138-998a-acc8b67dadfc",
   "metadata": {},
   "outputs": [
    {
     "data": {
      "text/html": [
       "<pre style=\"word-wrap: normal;white-space: pre;background: #fff0;line-height: 1.1;font-family: &quot;Courier New&quot;,Courier,monospace\">     ┌───┐     \n",
       "q_0: ┤ H ├─────\n",
       "     ├───┤     \n",
       "q_1: ┤ H ├─────\n",
       "     ├───┤     \n",
       "q_2: ┤ H ├─────\n",
       "     ├───┤┌───┐\n",
       "q_3: ┤ X ├┤ H ├\n",
       "     └───┘└───┘\n",
       "c: 3/══════════\n",
       "               </pre>"
      ],
      "text/plain": [
       "     ┌───┐     \n",
       "q_0: ┤ H ├─────\n",
       "     ├───┤     \n",
       "q_1: ┤ H ├─────\n",
       "     ├───┤     \n",
       "q_2: ┤ H ├─────\n",
       "     ├───┤┌───┐\n",
       "q_3: ┤ X ├┤ H ├\n",
       "     └───┘└───┘\n",
       "c: 3/══════════\n",
       "               "
      ]
     },
     "execution_count": 20,
     "metadata": {},
     "output_type": "execute_result"
    }
   ],
   "source": [
    "dj_circuit = QuantumCircuit(n+1, n)\n",
    "\n",
    "# Apply H-gates\n",
    "for qubit in range(n):\n",
    "    dj_circuit.h(qubit)\n",
    "\n",
    "# Put qubit in state |->\n",
    "dj_circuit.x(n)\n",
    "dj_circuit.h(n)\n",
    "dj_circuit.draw()"
   ]
  },
  {
   "cell_type": "code",
   "execution_count": 24,
   "id": "b97f5947-c9ae-4121-995c-c3c2af7d2825",
   "metadata": {},
   "outputs": [
    {
     "data": {
      "text/html": [
       "<pre style=\"word-wrap: normal;white-space: pre;background: #fff0;line-height: 1.1;font-family: &quot;Courier New&quot;,Courier,monospace\">     ┌───┐┌───┐ ░                 ░ ┌───┐\n",
       "q_0: ┤ H ├┤ X ├─░───■─────────────░─┤ X ├\n",
       "     ├───┤└───┘ ░   │             ░ └───┘\n",
       "q_1: ┤ H ├──────░───┼────■────────░──────\n",
       "     ├───┤┌───┐ ░   │    │        ░ ┌───┐\n",
       "q_2: ┤ H ├┤ X ├─░───┼────┼────■───░─┤ X ├\n",
       "     ├───┤├───┤ ░ ┌─┴─┐┌─┴─┐┌─┴─┐ ░ └───┘\n",
       "q_3: ┤ X ├┤ H ├─░─┤ X ├┤ X ├┤ X ├─░──────\n",
       "     └───┘└───┘ ░ └───┘└───┘└───┘ ░      \n",
       "c: 3/════════════════════════════════════\n",
       "                                         </pre>"
      ],
      "text/plain": [
       "     ┌───┐┌───┐ ░                 ░ ┌───┐\n",
       "q_0: ┤ H ├┤ X ├─░───■─────────────░─┤ X ├\n",
       "     ├───┤└───┘ ░   │             ░ └───┘\n",
       "q_1: ┤ H ├──────░───┼────■────────░──────\n",
       "     ├───┤┌───┐ ░   │    │        ░ ┌───┐\n",
       "q_2: ┤ H ├┤ X ├─░───┼────┼────■───░─┤ X ├\n",
       "     ├───┤├───┤ ░ ┌─┴─┐┌─┴─┐┌─┴─┐ ░ └───┘\n",
       "q_3: ┤ X ├┤ H ├─░─┤ X ├┤ X ├┤ X ├─░──────\n",
       "     └───┘└───┘ ░ └───┘└───┘└───┘ ░      \n",
       "c: 3/════════════════════════════════════\n",
       "                                         "
      ]
     },
     "execution_count": 24,
     "metadata": {},
     "output_type": "execute_result"
    }
   ],
   "source": [
    "dj_circuit = QuantumCircuit(n+1, n)\n",
    "\n",
    "# Apply H-gates\n",
    "for qubit in range(n):\n",
    "    dj_circuit.h(qubit)\n",
    "\n",
    "# Put qubit in state |->\n",
    "dj_circuit.x(n)\n",
    "dj_circuit.h(n)\n",
    "\n",
    "# Add the balanced oracle to the circuit\n",
    "dj_circuit.compose(balanced_oracle, inplace=True)\n",
    "dj_circuit.draw()"
   ]
  },
  {
   "cell_type": "code",
   "execution_count": 25,
   "id": "bdc02d9f-a662-4221-a277-9d4e40f6fa23",
   "metadata": {},
   "outputs": [
    {
     "data": {
      "text/html": [
       "<pre style=\"word-wrap: normal;white-space: pre;background: #fff0;line-height: 1.1;font-family: &quot;Courier New&quot;,Courier,monospace\">     ┌───┐┌───┐ ░                 ░ ┌───┐┌───┐ ░ ┌─┐      \n",
       "q_0: ┤ H ├┤ X ├─░───■─────────────░─┤ X ├┤ H ├─░─┤M├──────\n",
       "     ├───┤└───┘ ░   │             ░ ├───┤└───┘ ░ └╥┘┌─┐   \n",
       "q_1: ┤ H ├──────░───┼────■────────░─┤ H ├──────░──╫─┤M├───\n",
       "     ├───┤┌───┐ ░   │    │        ░ ├───┤┌───┐ ░  ║ └╥┘┌─┐\n",
       "q_2: ┤ H ├┤ X ├─░───┼────┼────■───░─┤ X ├┤ H ├─░──╫──╫─┤M├\n",
       "     ├───┤├───┤ ░ ┌─┴─┐┌─┴─┐┌─┴─┐ ░ └───┘└───┘ ░  ║  ║ └╥┘\n",
       "q_3: ┤ X ├┤ H ├─░─┤ X ├┤ X ├┤ X ├─░────────────░──╫──╫──╫─\n",
       "     └───┘└───┘ ░ └───┘└───┘└───┘ ░            ░  ║  ║  ║ \n",
       "c: 3/═════════════════════════════════════════════╩══╩══╩═\n",
       "                                                  0  1  2 </pre>"
      ],
      "text/plain": [
       "     ┌───┐┌───┐ ░                 ░ ┌───┐┌───┐ ░ ┌─┐      \n",
       "q_0: ┤ H ├┤ X ├─░───■─────────────░─┤ X ├┤ H ├─░─┤M├──────\n",
       "     ├───┤└───┘ ░   │             ░ ├───┤└───┘ ░ └╥┘┌─┐   \n",
       "q_1: ┤ H ├──────░───┼────■────────░─┤ H ├──────░──╫─┤M├───\n",
       "     ├───┤┌───┐ ░   │    │        ░ ├───┤┌───┐ ░  ║ └╥┘┌─┐\n",
       "q_2: ┤ H ├┤ X ├─░───┼────┼────■───░─┤ X ├┤ H ├─░──╫──╫─┤M├\n",
       "     ├───┤├───┤ ░ ┌─┴─┐┌─┴─┐┌─┴─┐ ░ └───┘└───┘ ░  ║  ║ └╥┘\n",
       "q_3: ┤ X ├┤ H ├─░─┤ X ├┤ X ├┤ X ├─░────────────░──╫──╫──╫─\n",
       "     └───┘└───┘ ░ └───┘└───┘└───┘ ░            ░  ║  ║  ║ \n",
       "c: 3/═════════════════════════════════════════════╩══╩══╩═\n",
       "                                                  0  1  2 "
      ]
     },
     "execution_count": 25,
     "metadata": {},
     "output_type": "execute_result"
    }
   ],
   "source": [
    "dj_circuit = QuantumCircuit(n+1, n)\n",
    "\n",
    "# Apply H-gates\n",
    "for qubit in range(n):\n",
    "    dj_circuit.h(qubit)\n",
    "\n",
    "# Put qubit in state |->\n",
    "dj_circuit.x(n)\n",
    "dj_circuit.h(n)\n",
    "\n",
    "# Add oracle\n",
    "dj_circuit.compose(balanced_oracle, inplace=True)\n",
    "\n",
    "# Repeat H-gates\n",
    "for qubit in range(n):\n",
    "    dj_circuit.h(qubit)\n",
    "dj_circuit.barrier()\n",
    "\n",
    "# Measure\n",
    "for i in range(n):\n",
    "    dj_circuit.measure(i, i)\n",
    "\n",
    "# Display circuit\n",
    "dj_circuit.draw()"
   ]
  },
  {
   "cell_type": "code",
   "execution_count": 26,
   "id": "94288bc7-1d5b-486c-8118-ca444493e05d",
   "metadata": {},
   "outputs": [
    {
     "data": {
      "image/png": "[encoded data removed]",
      "text/plain": [
       "<Figure size 504x360 with 1 Axes>"
      ]
     },
     "execution_count": 26,
     "metadata": {},
     "output_type": "execute_result"
    }
   ],
   "source": [
    "# use local simulator\n",
    "aer_sim = Aer.get_backend('aer_simulator')\n",
    "qobj = assemble(dj_circuit, aer_sim)\n",
    "results = aer_sim.run(qobj).result()\n",
    "answer = results.get_counts()\n",
    "\n",
    "plot_histogram(answer)"
   ]
  },
  {
   "cell_type": "code",
   "execution_count": null,
   "id": "f9832202-1f7f-4c9b-9df2-c07cc7ecd820",
   "metadata": {},
   "outputs": [],
   "source": []
  }
 ],
 "metadata": {
  "kernelspec": {
   "display_name": "Python 3",
   "language": "python",
   "name": "python3"
  },
  "language_info": {
   "codemirror_mode": {
    "name": "ipython",
    "version": 3
   },
   "file_extension": ".py",
   "mimetype": "text/x-python",
   "name": "python",
   "nbconvert_exporter": "python",
   "pygments_lexer": "ipython3",
   "version": "3.8.8"
  }
 },
 "nbformat": 4,
 "nbformat_minor": 5
}
